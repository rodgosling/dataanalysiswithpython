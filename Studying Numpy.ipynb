{
 "cells": [
  {
   "cell_type": "markdown",
   "metadata": {},
   "source": [
    "# Numpy Exercises\n",
    "\n",
    "##### Exercícios do curso Data Analysis with Python (freeCodeCamp)\n",
    "\n",
    "Disponível em: <a href=\"https://github.com/ine-rmotr-curriculum/freecodecamp-intro-to-numpy/blob/master/3.%20NumPy%20exercises.ipynb\" target=\"_blank\">github</a>\n",
    "\n",
    "<hr style=\"margin-bottom: 40px;\">"
   ]
  },
  {
   "cell_type": "markdown",
   "metadata": {},
   "source": [
    "### Array creation"
   ]
  },
  {
   "cell_type": "code",
   "execution_count": 2,
   "metadata": {},
   "outputs": [],
   "source": [
    "import numpy as np"
   ]
  },
  {
   "cell_type": "code",
   "execution_count": 5,
   "metadata": {},
   "outputs": [
    {
     "name": "stdout",
     "output_type": "stream",
     "text": [
      "[[0. 0. 0. 0. 0. 0. 0. 0. 0. 0.]\n",
      " [0. 0. 0. 0. 0. 0. 0. 0. 0. 0.]\n",
      " [0. 0. 0. 0. 0. 0. 0. 0. 0. 0.]\n",
      " [0. 0. 0. 0. 0. 0. 0. 0. 0. 0.]\n",
      " [0. 0. 0. 0. 0. 0. 0. 0. 0. 0.]\n",
      " [0. 0. 0. 0. 0. 0. 0. 0. 0. 0.]\n",
      " [0. 0. 0. 0. 0. 0. 0. 0. 0. 0.]\n",
      " [0. 0. 0. 0. 0. 0. 0. 0. 0. 0.]\n",
      " [0. 0. 0. 0. 0. 0. 0. 0. 0. 0.]\n",
      " [0. 0. 0. 0. 0. 0. 0. 0. 0. 0.]]\n"
     ]
    }
   ],
   "source": [
    "# Create a numpy array of size 10, filled with zeros\n",
    "\n",
    "a = np.zeros ((10,10))\n",
    "print (a)"
   ]
  },
  {
   "cell_type": "code",
   "execution_count": 15,
   "metadata": {},
   "outputs": [
    {
     "name": "stdout",
     "output_type": "stream",
     "text": [
      "[10 11 12 13 14 15 16 17 18 19 20 21 22 23 24 25 26 27 28 29 30 31 32 33\n",
      " 34 35 36 37 38 39 40 41 42 43 44 45 46 47 48 49]\n"
     ]
    }
   ],
   "source": [
    "# Create a numpy array with values ranging from 10 to 49\n",
    "\n",
    "b = np.arange (10,50)\n",
    "print (b)"
   ]
  },
  {
   "cell_type": "code",
   "execution_count": 18,
   "metadata": {},
   "outputs": [
    {
     "name": "stdout",
     "output_type": "stream",
     "text": [
      "[[1 1]\n",
      " [1 1]]\n"
     ]
    }
   ],
   "source": [
    "# Create a numpy matrix of 2*2 integers, filled with ones\n",
    "\n",
    "c = np.ones ((2,2), dtype = 'int')\n",
    "print (c)"
   ]
  },
  {
   "cell_type": "code",
   "execution_count": 21,
   "metadata": {},
   "outputs": [
    {
     "name": "stdout",
     "output_type": "stream",
     "text": [
      "[[1. 1.]\n",
      " [1. 1.]\n",
      " [1. 1.]]\n"
     ]
    }
   ],
   "source": [
    "# Create a numpy matrix of 3*2 float numbers, filled with ones\n",
    "\n",
    "d = np.ones ((3,2), dtype = 'float')\n",
    "print (d)"
   ]
  },
  {
   "cell_type": "code",
   "execution_count": 24,
   "metadata": {},
   "outputs": [
    {
     "name": "stdout",
     "output_type": "stream",
     "text": [
      "[[1. 1. 1. 1. 1. 1. 1. 1. 1. 1.]\n",
      " [1. 1. 1. 1. 1. 1. 1. 1. 1. 1.]\n",
      " [1. 1. 1. 1. 1. 1. 1. 1. 1. 1.]\n",
      " [1. 1. 1. 1. 1. 1. 1. 1. 1. 1.]\n",
      " [1. 1. 1. 1. 1. 1. 1. 1. 1. 1.]\n",
      " [1. 1. 1. 1. 1. 1. 1. 1. 1. 1.]\n",
      " [1. 1. 1. 1. 1. 1. 1. 1. 1. 1.]\n",
      " [1. 1. 1. 1. 1. 1. 1. 1. 1. 1.]\n",
      " [1. 1. 1. 1. 1. 1. 1. 1. 1. 1.]\n",
      " [1. 1. 1. 1. 1. 1. 1. 1. 1. 1.]]\n"
     ]
    }
   ],
   "source": [
    "# Given the X numpy array, create a new numpy array with the same shape and type as X, filled with ones\n",
    "\n",
    "e = np.ones (a.shape)\n",
    "print (e)"
   ]
  },
  {
   "cell_type": "code",
   "execution_count": 27,
   "metadata": {},
   "outputs": [
    {
     "name": "stdout",
     "output_type": "stream",
     "text": [
      "[[1. 1. 1. 1. 1. 1. 1. 1. 1. 1.]\n",
      " [1. 1. 1. 1. 1. 1. 1. 1. 1. 1.]\n",
      " [1. 1. 1. 1. 1. 1. 1. 1. 1. 1.]\n",
      " [1. 1. 1. 1. 1. 1. 1. 1. 1. 1.]\n",
      " [1. 1. 1. 1. 1. 1. 1. 1. 1. 1.]\n",
      " [1. 1. 1. 1. 1. 1. 1. 1. 1. 1.]\n",
      " [1. 1. 1. 1. 1. 1. 1. 1. 1. 1.]\n",
      " [1. 1. 1. 1. 1. 1. 1. 1. 1. 1.]\n",
      " [1. 1. 1. 1. 1. 1. 1. 1. 1. 1.]\n",
      " [1. 1. 1. 1. 1. 1. 1. 1. 1. 1.]]\n"
     ]
    }
   ],
   "source": [
    "# Given the X numpy array, create a new numpy array with the same shape and type as X, filled with ones -- solution 2\n",
    "\n",
    "f = np.ones_like (a)\n",
    "print (f)"
   ]
  },
  {
   "cell_type": "code",
   "execution_count": 32,
   "metadata": {},
   "outputs": [
    {
     "name": "stdout",
     "output_type": "stream",
     "text": [
      "[[0.39503857 0.59133916 0.4882248 ]\n",
      " [0.11400555 0.84583077 0.37437501]]\n",
      "[[0. 0. 0.]\n",
      " [0. 0. 0.]]\n"
     ]
    }
   ],
   "source": [
    "# Given the X numpy matrix, create a new numpy matrix with the same shape and type as X, filled with zeros\n",
    "\n",
    "h = np.random.rand(2,3)\n",
    "print (h)\n",
    "\n",
    "h1 = np.zeros_like (h)\n",
    "print (h1)"
   ]
  },
  {
   "cell_type": "code",
   "execution_count": 38,
   "metadata": {},
   "outputs": [
    {
     "name": "stdout",
     "output_type": "stream",
     "text": [
      "[[5 5 5 5]\n",
      " [5 5 5 5]\n",
      " [5 5 5 5]\n",
      " [5 5 5 5]]\n"
     ]
    }
   ],
   "source": [
    "# Create a numpy matrix of 4*4 integers, filled with fives\n",
    "\n",
    "i = 5 * np.ones ((4,4), dtype = np.int)\n",
    "print (i)"
   ]
  },
  {
   "cell_type": "code",
   "execution_count": 42,
   "metadata": {},
   "outputs": [
    {
     "name": "stdout",
     "output_type": "stream",
     "text": [
      "[[ 5  2  7  2  9  1  7  6]\n",
      " [ 4  3 -1  3 -3 -3  1 -4]\n",
      " [ 1  4  4  8 -1 -3  2 -4]\n",
      " [-1  8  0  1 -1  3  6  3]\n",
      " [-4  9  4  1 -3  3  1 -4]]\n",
      "[[7 7 7 7 7 7 7 7]\n",
      " [7 7 7 7 7 7 7 7]\n",
      " [7 7 7 7 7 7 7 7]\n",
      " [7 7 7 7 7 7 7 7]\n",
      " [7 7 7 7 7 7 7 7]]\n"
     ]
    }
   ],
   "source": [
    "# Given the X numpy matrix, create a new numpy matrix with the same shape and type as X, filled with sevens\n",
    "\n",
    "# np.random.randint (min, max, size = (rows, columns)) -- random integer\n",
    "\n",
    "j = np.random.randint (-4,10, size = (5,8))\n",
    "print (j)\n",
    "\n",
    "j1 = 7 * np.ones_like (j)\n",
    "print (j1)"
   ]
  },
  {
   "cell_type": "code",
   "execution_count": 45,
   "metadata": {},
   "outputs": [
    {
     "name": "stdout",
     "output_type": "stream",
     "text": [
      "[[1. 0. 0.]\n",
      " [0. 1. 0.]\n",
      " [0. 0. 1.]]\n"
     ]
    }
   ],
   "source": [
    "# Create a 3*3 identity numpy matrix with ones on the diagonal and zeros elsewhere\n",
    "\n",
    "k = np.identity (3)\n",
    "print (k)"
   ]
  },
  {
   "cell_type": "code",
   "execution_count": 49,
   "metadata": {},
   "outputs": [
    {
     "name": "stdout",
     "output_type": "stream",
     "text": [
      "[2 6 2]\n"
     ]
    }
   ],
   "source": [
    "# Create a numpy array, filled with 3 random integer values between 1 and 10\n",
    "\n",
    "l = np.random.randint (1, 11, size = 3)\n",
    "print (l)"
   ]
  },
  {
   "cell_type": "code",
   "execution_count": 58,
   "metadata": {},
   "outputs": [
    {
     "name": "stdout",
     "output_type": "stream",
     "text": [
      "[[[-0.94010897 -0.22459141 -0.68517838]\n",
      "  [ 0.32679824  0.22059638 -1.70463158]\n",
      "  [-0.6167373   1.34566817 -2.00101109]]\n",
      "\n",
      " [[ 0.87836868 -2.35303981 -1.47255596]\n",
      "  [ 0.55889066  0.38937103 -0.40951346]\n",
      "  [-0.33554794 -0.15195143 -0.02878981]]\n",
      "\n",
      " [[ 0.88113958  0.36364771  0.24671927]\n",
      "  [ 0.03832005  0.7156653   0.79364549]\n",
      "  [-0.2494255   0.52537165  0.84331697]]]\n",
      " \n",
      "[[[0.69676954 0.67389488 0.23817591]\n",
      "  [0.99815918 0.50393322 0.19055251]\n",
      "  [0.44360176 0.82255209 0.05990095]]\n",
      "\n",
      " [[0.92703812 0.4611088  0.74774806]\n",
      "  [0.55229518 0.16510565 0.96879132]\n",
      "  [0.18882708 0.24637234 0.16676087]]\n",
      "\n",
      " [[0.88239495 0.74085961 0.01935733]\n",
      "  [0.36182682 0.77894326 0.50339382]\n",
      "  [0.52717453 0.9828812  0.35883984]]]\n"
     ]
    }
   ],
   "source": [
    "# Create a 3*3*3 numpy matrix, filled with random float values\n",
    "\n",
    "m = np.random.randn (3,3,3)\n",
    "print (m)\n",
    "\n",
    "print (' ')\n",
    "\n",
    "m1 = np.random.random ((3,3,3))\n",
    "print (m1)"
   ]
  },
  {
   "cell_type": "code",
   "execution_count": 60,
   "metadata": {},
   "outputs": [
    {
     "name": "stdout",
     "output_type": "stream",
     "text": [
      "[1, 2, 3, 4, 5] <class 'list'>\n",
      "[1 2 3 4 5] <class 'numpy.ndarray'>\n"
     ]
    }
   ],
   "source": [
    "# Given the X python list convert it to an Y numpy array\n",
    "\n",
    "lista = [1, 2, 3, 4, 5]\n",
    "print (lista, type(lista))\n",
    "\n",
    "listarray = np.array (lista)\n",
    "print (listarray, type(listarray))"
   ]
  },
  {
   "cell_type": "code",
   "execution_count": 73,
   "metadata": {},
   "outputs": [
    {
     "name": "stdout",
     "output_type": "stream",
     "text": [
      "n: \n",
      " [[[7 4 1 6 3]\n",
      "  [4 3 4 0 6]\n",
      "  [8 9 8 3 6]\n",
      "  [1 2 7 9 1]]\n",
      "\n",
      " [[0 6 1 4 3]\n",
      "  [2 7 5 7 4]\n",
      "  [3 2 3 6 4]\n",
      "  [8 1 4 8 2]]\n",
      "\n",
      " [[2 1 7 2 1]\n",
      "  [0 3 1 7 4]\n",
      "  [0 3 5 9 9]\n",
      "  [2 4 0 2 8]]] \n",
      "\n",
      "\n",
      "cópia de n: \n",
      " [[[7 4 1 6 3]\n",
      "  [4 3 4 0 6]\n",
      "  [8 9 8 3 6]\n",
      "  [1 2 7 9 1]]\n",
      "\n",
      " [[0 6 1 4 3]\n",
      "  [2 7 5 7 4]\n",
      "  [3 2 3 6 4]\n",
      "  [8 1 4 8 2]]\n",
      "\n",
      " [[2 1 7 2 1]\n",
      "  [0 3 1 7 4]\n",
      "  [0 3 5 9 9]\n",
      "  [2 4 0 2 8]]] \n",
      "\n",
      "\n",
      "Alterado o valor da posição (2,1,1) para 1000\n",
      "n: \n",
      " [[[7 4 1 6 3]\n",
      "  [4 3 4 0 6]\n",
      "  [8 9 8 3 6]\n",
      "  [1 2 7 9 1]]\n",
      "\n",
      " [[0 6 1 4 3]\n",
      "  [2 7 5 7 4]\n",
      "  [3 2 3 6 4]\n",
      "  [8 1 4 8 2]]\n",
      "\n",
      " [[2 1 7 2 1]\n",
      "  [0 3 1 7 4]\n",
      "  [0 3 5 9 9]\n",
      "  [2 4 0 2 8]]] \n",
      "\n",
      "\n",
      "cópia de n: \n",
      " [[[   7    4    1    6    3]\n",
      "  [   4    3    4    0    6]\n",
      "  [   8    9    8    3    6]\n",
      "  [   1    2    7    9    1]]\n",
      "\n",
      " [[   0    6    1    4    3]\n",
      "  [   2    7    5    7    4]\n",
      "  [   3    2    3    6    4]\n",
      "  [   8    1    4    8    2]]\n",
      "\n",
      " [[   2    1    7    2    1]\n",
      "  [   0 1000    1    7    4]\n",
      "  [   0    3    5    9    9]\n",
      "  [   2    4    0    2    8]]]\n"
     ]
    }
   ],
   "source": [
    "# Given the X numpy array, make a copy and store it on Y\n",
    "\n",
    "n = np.random.randint (10, size = (3,4,5))\n",
    "print (\"n: \\n\",n, \"\\n\\n\")\n",
    "\n",
    "n1 = np.copy (n)\n",
    "print (\"cópia de n: \\n\", n1, \"\\n\\n\")\n",
    "\n",
    "n1 [2,1,1] = 1000\n",
    "print ('Alterado o valor da posição (2,1,1) para 1000')\n",
    "print (\"n: \\n\", n, \"\\n\\n\")\n",
    "print (\"cópia de n: \\n\", n1)"
   ]
  },
  {
   "cell_type": "code",
   "execution_count": 77,
   "metadata": {},
   "outputs": [
    {
     "name": "stdout",
     "output_type": "stream",
     "text": [
      "[ 1  2  3  4  5  6  7  8  9 10]\n"
     ]
    }
   ],
   "source": [
    "# Create a numpy array with numbers from 1 to 10\n",
    "\n",
    "o = np.arange (1,11)\n",
    "print (o)"
   ]
  },
  {
   "cell_type": "code",
   "execution_count": 78,
   "metadata": {},
   "outputs": [
    {
     "name": "stdout",
     "output_type": "stream",
     "text": [
      "[1 3 5 7 9]\n"
     ]
    }
   ],
   "source": [
    "# Create a numpy array with the odd numbers between 1 to 10\n",
    "\n",
    "p = np.arange (1,10,2)\n",
    "print (p)"
   ]
  },
  {
   "cell_type": "code",
   "execution_count": 90,
   "metadata": {},
   "outputs": [
    {
     "name": "stdout",
     "output_type": "stream",
     "text": [
      "[10  9  8  7  6  5  4  3  2  1]\n",
      "[10  9  8  7  6  5  4  3  2  1]\n"
     ]
    }
   ],
   "source": [
    "# Create a numpy array with numbers from 1 to 10, in descending order\n",
    "\n",
    "q = np.arange (10,0,-1)\n",
    "print (q)\n",
    "\n",
    "q1 = np.arange (1,11) [::-1]\n",
    "print (q1)"
   ]
  },
  {
   "cell_type": "code",
   "execution_count": 93,
   "metadata": {},
   "outputs": [
    {
     "name": "stdout",
     "output_type": "stream",
     "text": [
      "[[6 3 3]\n",
      " [4 4 3]\n",
      " [7 7 7]] \n",
      "\n",
      "[[0 1 2]\n",
      " [3 4 5]\n",
      " [6 7 8]]\n"
     ]
    }
   ],
   "source": [
    "# Create a 3*3 numpy matrix, filled with values ranging from 0 to 8\n",
    "\n",
    "# random values\n",
    "r = np.random.randint (0, 8, size = (3,3) )\n",
    "print (r,\"\\n\")\n",
    "\n",
    "# sequencial \n",
    "r1 = np.arange (9).reshape (3,3)\n",
    "print (r1)"
   ]
  },
  {
   "cell_type": "code",
   "execution_count": 103,
   "metadata": {},
   "outputs": [
    {
     "name": "stdout",
     "output_type": "stream",
     "text": [
      "36\n"
     ]
    }
   ],
   "source": [
    "# Show the memory size of the given Z numpy matrix\n",
    "\n",
    "print (r1.size * r1.itemsize)"
   ]
  },
  {
   "cell_type": "markdown",
   "metadata": {},
   "source": [
    "<hr style=\"margin-bottom: 40px;\">\n",
    "\n",
    "### Array indexation"
   ]
  },
  {
   "cell_type": "code",
   "execution_count": 137,
   "metadata": {},
   "outputs": [
    {
     "name": "stdout",
     "output_type": "stream",
     "text": [
      "[ 4  8 25 17 11 13  9 36  9 32 27 10 18 43 47 30 30 31  7 43  2 37 22 30\n",
      " 46 41 46 32 16 27 42  5 27]\n"
     ]
    },
    {
     "data": {
      "text/plain": [
       "4"
      ]
     },
     "execution_count": 137,
     "metadata": {},
     "output_type": "execute_result"
    }
   ],
   "source": [
    "# Given the X numpy array, show it's first element\n",
    "\n",
    "aa = np.random.randint (0, 50, 33)\n",
    "print (aa)\n",
    "aa [0]"
   ]
  },
  {
   "cell_type": "code",
   "execution_count": 115,
   "metadata": {},
   "outputs": [
    {
     "data": {
      "text/plain": [
       "13"
      ]
     },
     "execution_count": 115,
     "metadata": {},
     "output_type": "execute_result"
    }
   ],
   "source": [
    "# Given the X numpy array, show it's last element\n",
    "\n",
    "aa [-1,-1]"
   ]
  },
  {
   "cell_type": "code",
   "execution_count": 132,
   "metadata": {},
   "outputs": [
    {
     "name": "stdout",
     "output_type": "stream",
     "text": [
      "[28 34  7  2  4  2 24 21 32 49 41  6 10 27 43]\n"
     ]
    },
    {
     "data": {
      "text/plain": [
       "array([28, 34,  7])"
      ]
     },
     "execution_count": 132,
     "metadata": {},
     "output_type": "execute_result"
    }
   ],
   "source": [
    "# Given the X numpy array, show it's first three elements\n",
    "\n",
    "ab = np.random.randint (0, 50, 15)\n",
    "print (ab)\n",
    "\n",
    "ab [0:3]"
   ]
  },
  {
   "cell_type": "code",
   "execution_count": 134,
   "metadata": {},
   "outputs": [
    {
     "data": {
      "text/plain": [
       "array([34,  7,  2,  4,  2, 24, 21, 32, 49, 41,  6, 10, 27])"
      ]
     },
     "execution_count": 134,
     "metadata": {},
     "output_type": "execute_result"
    }
   ],
   "source": [
    "# Given the X numpy array, show all middle elements\n",
    "\n",
    "ab [1:-1]"
   ]
  },
  {
   "cell_type": "code",
   "execution_count": 135,
   "metadata": {},
   "outputs": [
    {
     "data": {
      "text/plain": [
       "array([43, 27, 10,  6, 41, 49, 32, 21, 24,  2,  4,  2,  7, 34, 28])"
      ]
     },
     "execution_count": 135,
     "metadata": {},
     "output_type": "execute_result"
    }
   ],
   "source": [
    "# Given the X numpy array, show the elements in reverse position\n",
    "\n",
    "ab [::-1]"
   ]
  },
  {
   "cell_type": "code",
   "execution_count": 136,
   "metadata": {},
   "outputs": [
    {
     "data": {
      "text/plain": [
       "array([28,  7,  4, 24, 32, 41, 10, 43])"
      ]
     },
     "execution_count": 136,
     "metadata": {},
     "output_type": "execute_result"
    }
   ],
   "source": [
    "# Given the X numpy array, show the elements in an odd position\n",
    "\n",
    "ab [::2]"
   ]
  },
  {
   "cell_type": "code",
   "execution_count": 144,
   "metadata": {},
   "outputs": [
    {
     "name": "stdout",
     "output_type": "stream",
     "text": [
      "[[33 23 38  1]\n",
      " [ 3  1 17 34]\n",
      " [11 38 27 37]\n",
      " [14 31  0 32]]\n"
     ]
    },
    {
     "data": {
      "text/plain": [
       "array([33, 23, 38,  1])"
      ]
     },
     "execution_count": 144,
     "metadata": {},
     "output_type": "execute_result"
    }
   ],
   "source": [
    "# Given the X numpy matrix, show the first row elements\n",
    "\n",
    "ac = np.random.randint (40, size = (4,4))\n",
    "print (ac)\n",
    "\n",
    "ac [0]"
   ]
  },
  {
   "cell_type": "code",
   "execution_count": 145,
   "metadata": {},
   "outputs": [
    {
     "data": {
      "text/plain": [
       "array([14, 31,  0, 32])"
      ]
     },
     "execution_count": 145,
     "metadata": {},
     "output_type": "execute_result"
    }
   ],
   "source": [
    "# Given the X numpy matrix, show the last row elements\n",
    "\n",
    "ac [-1]"
   ]
  },
  {
   "cell_type": "code",
   "execution_count": 147,
   "metadata": {},
   "outputs": [
    {
     "data": {
      "text/plain": [
       "33"
      ]
     },
     "execution_count": 147,
     "metadata": {},
     "output_type": "execute_result"
    }
   ],
   "source": [
    "# Given the X numpy matrix, show the first element on first row\n",
    "\n",
    "ac [0,0]"
   ]
  },
  {
   "cell_type": "code",
   "execution_count": 148,
   "metadata": {},
   "outputs": [
    {
     "data": {
      "text/plain": [
       "32"
      ]
     },
     "execution_count": 148,
     "metadata": {},
     "output_type": "execute_result"
    }
   ],
   "source": [
    "# Given the X numpy matrix, show the last element on last row\n",
    "\n",
    "ac [-1, -1]"
   ]
  },
  {
   "cell_type": "code",
   "execution_count": 149,
   "metadata": {},
   "outputs": [
    {
     "data": {
      "text/plain": [
       "array([[ 3,  1, 17, 34],\n",
       "       [11, 38, 27, 37]])"
      ]
     },
     "execution_count": 149,
     "metadata": {},
     "output_type": "execute_result"
    }
   ],
   "source": [
    "# Given the X numpy matrix, show the middle row elements\n",
    "\n",
    "ac [1:-1]"
   ]
  },
  {
   "cell_type": "code",
   "execution_count": 154,
   "metadata": {},
   "outputs": [
    {
     "data": {
      "text/plain": [
       "array([[33, 23],\n",
       "       [ 3,  1]])"
      ]
     },
     "execution_count": 154,
     "metadata": {},
     "output_type": "execute_result"
    }
   ],
   "source": [
    "# Given the X numpy matrix, show the first two elements on the first two rows\n",
    "\n",
    "ac [:2 , :2]"
   ]
  },
  {
   "cell_type": "code",
   "execution_count": 156,
   "metadata": {},
   "outputs": [
    {
     "data": {
      "text/plain": [
       "array([[27, 37],\n",
       "       [ 0, 32]])"
      ]
     },
     "execution_count": 156,
     "metadata": {},
     "output_type": "execute_result"
    }
   ],
   "source": [
    "# Given the X numpy matrix, show the last two elements on the last two rows\n",
    "\n",
    "ac [-2: , -2:]"
   ]
  },
  {
   "cell_type": "markdown",
   "metadata": {},
   "source": [
    "<hr style=\"margin-bottom: 40px;\">\n",
    "\n",
    "### Array manipulation"
   ]
  },
  {
   "cell_type": "code",
   "execution_count": 168,
   "metadata": {},
   "outputs": [
    {
     "name": "stdout",
     "output_type": "stream",
     "text": [
      "[ 9 14  3 16 14  6]\n"
     ]
    },
    {
     "data": {
      "text/plain": [
       "array([ 9., 14.,  3., 16., 14.,  6.])"
      ]
     },
     "execution_count": 168,
     "metadata": {},
     "output_type": "execute_result"
    }
   ],
   "source": [
    "# Convert the given integer numpy array to float\n",
    "\n",
    "ba = np.random.randint (1, 60, size = (6))\n",
    "print (ba)\n",
    "\n",
    "np.array (ba, np.float)"
   ]
  },
  {
   "cell_type": "code",
   "execution_count": 171,
   "metadata": {},
   "outputs": [
    {
     "name": "stdout",
     "output_type": "stream",
     "text": [
      "[44 42 17 61 86 40]\n"
     ]
    },
    {
     "data": {
      "text/plain": [
       "array([40, 86, 61, 17, 42, 44])"
      ]
     },
     "execution_count": 171,
     "metadata": {},
     "output_type": "execute_result"
    }
   ],
   "source": [
    "# Reverse the given numpy array (first element becomes last)\n",
    "\n",
    "bb = np.random.randint (1, 100, size = (6))\n",
    "print (bb)\n",
    "\n",
    "bb [::-1]"
   ]
  },
  {
   "cell_type": "code",
   "execution_count": 173,
   "metadata": {},
   "outputs": [
    {
     "name": "stdout",
     "output_type": "stream",
     "text": [
      "[81 97 83 54 15 25]\n",
      "[15 25 54 81 83 97]\n"
     ]
    }
   ],
   "source": [
    "# Order (sort) the given numpy array\n",
    "\n",
    "bc = np.random.randint (1, 100, size = (6))\n",
    "print (bc)\n",
    "\n",
    "bc.sort()\n",
    "print (bc)\n"
   ]
  },
  {
   "cell_type": "code",
   "execution_count": 175,
   "metadata": {},
   "outputs": [
    {
     "name": "stdout",
     "output_type": "stream",
     "text": [
      "[71 68 91 75 47 40]\n",
      "[71 68 91 75  1 40]\n"
     ]
    }
   ],
   "source": [
    "# Given the X numpy array, set the fifth element equal to 1\n",
    "\n",
    "bd = np.random.randint (10, 100, size = (6))\n",
    "print (bd)\n",
    "\n",
    "bd [4] = 1\n",
    "print (bd)\n"
   ]
  },
  {
   "cell_type": "code",
   "execution_count": 180,
   "metadata": {},
   "outputs": [
    {
     "name": "stdout",
     "output_type": "stream",
     "text": [
      "[[ 1  2  3  4]\n",
      " [ 5  6  7  8]\n",
      " [ 9 10 11 12]\n",
      " [ 1  1  1  1]]\n"
     ]
    }
   ],
   "source": [
    "# Given the X numpy matrix, change the last row with all 1\n",
    "\n",
    "X = np.array([\n",
    "    [1,   2,  3,  4],\n",
    "    [5,   6,  7,  8],\n",
    "    [9,  10, 11, 12],\n",
    "    [13, 14, 15, 16]\n",
    "])\n",
    "\n",
    "X [-1:] = 1\n",
    "print (X)"
   ]
  },
  {
   "cell_type": "code",
   "execution_count": 189,
   "metadata": {},
   "outputs": [
    {
     "name": "stdout",
     "output_type": "stream",
     "text": [
      "[[1. 1. 1. 1.]\n",
      " [1. 1. 1. 1.]\n",
      " [1. 1. 1. 1.]\n",
      " [1. 1. 1. 1.]]\n",
      "[[1. 1. 1. 1.]\n",
      " [1. 1. 1. 1.]\n",
      " [1. 1. 1. 1.]\n",
      " [1. 1. 1. 0.]]\n"
     ]
    }
   ],
   "source": [
    "# Given the X numpy matrix, change the last item on the last row with a 0\n",
    "\n",
    "be = np.ones ((4,4))\n",
    "print (be)\n",
    "\n",
    "be [-1,-1] = 0\n",
    "print (be)"
   ]
  },
  {
   "cell_type": "code",
   "execution_count": 195,
   "metadata": {},
   "outputs": [
    {
     "data": {
      "text/plain": [
       "array([[ 6,  7,  8,  9],\n",
       "       [10, 11, 12, 13],\n",
       "       [14, 15, 16, 17],\n",
       "       [18, 19, 20, 21]])"
      ]
     },
     "execution_count": 195,
     "metadata": {},
     "output_type": "execute_result"
    }
   ],
   "source": [
    "# Given the X numpy matrix, add 5 to every element\n",
    "\n",
    "bf = np.array([\n",
    "    [1,   2,  3,  4],\n",
    "    [5,   6,  7,  8],\n",
    "    [9,  10, 11, 12],\n",
    "    [13, 14, 15, 16]\n",
    "])\n",
    "\n",
    "print (bf)\n",
    "\n",
    "bf1 = 5 + bf\n",
    "print (bf1)"
   ]
  },
  {
   "cell_type": "markdown",
   "metadata": {},
   "source": [
    "<hr style=\"margin-bottom: 40px;\">\n",
    "\n",
    "### Boolean arrays"
   ]
  },
  {
   "cell_type": "code",
   "execution_count": 204,
   "metadata": {},
   "outputs": [
    {
     "name": "stdout",
     "output_type": "stream",
     "text": [
      "[-1 -4 -9]\n",
      "[-9 -4 -1]\n"
     ]
    }
   ],
   "source": [
    "# Given the X numpy array, get the negative elements\n",
    "\n",
    "ca = np.array([-1,2,0,-4,5,6,0,0,-9,10])\n",
    "ca1 = ca [ca<0]\n",
    "print (ca1)\n",
    "ca1.sort()\n",
    "print (ca1)"
   ]
  },
  {
   "cell_type": "code",
   "execution_count": 207,
   "metadata": {},
   "outputs": [
    {
     "name": "stdout",
     "output_type": "stream",
     "text": [
      "[ 16  41 -29   3   6 -25 -35   8  41  46]\n",
      "[16 41  6  8 41 46]\n"
     ]
    }
   ],
   "source": [
    "# Given the X numpy array, get numbers higher than 5\n",
    "\n",
    "cb = np.random.randint (-50, 50, size = 10)\n",
    "print (cb)\n",
    "\n",
    "cb1 = cb [cb > 5]\n",
    "print (cb1)"
   ]
  },
  {
   "cell_type": "code",
   "execution_count": 211,
   "metadata": {},
   "outputs": [
    {
     "name": "stdout",
     "output_type": "stream",
     "text": [
      "[28  0 27 23 13  0 48 38 15  5  5  9 17 33 17]\n",
      "[28 27 23 48 38 33]\n",
      "18.533333333333335\n"
     ]
    }
   ],
   "source": [
    "# Given the X numpy array, get numbers higher than the elements mean\n",
    "\n",
    "cc = np.random.randint (0, 50, size = 15)\n",
    "print (cc)\n",
    "\n",
    "cc1 = cc [cc > (cc.mean ())]\n",
    "print (cc1)\n",
    "print (cc.mean ())"
   ]
  },
  {
   "cell_type": "code",
   "execution_count": 221,
   "metadata": {},
   "outputs": [
    {
     "name": "stdout",
     "output_type": "stream",
     "text": [
      "[ 2 10]\n"
     ]
    }
   ],
   "source": [
    "# Given the X numpy array, get numbers equal to 2 or 10\n",
    "\n",
    "cd = np.array([-1, 2, 0, -4, 5, 6, 0, 0, -9, 10])\n",
    "\n",
    "cd1 = cd [(cd == 2) | (cd == 10)]\n",
    "print (cd1)"
   ]
  },
  {
   "cell_type": "markdown",
   "metadata": {},
   "source": [
    "<hr style=\"margin-bottom: 40px;\">\n",
    "\n",
    "### Logic functions"
   ]
  },
  {
   "cell_type": "code",
   "execution_count": 239,
   "metadata": {},
   "outputs": [
    {
     "name": "stdout",
     "output_type": "stream",
     "text": [
      "[34 13  1 43 15 45 17 12 47 41 38 15 30 26 29]\n"
     ]
    },
    {
     "data": {
      "text/plain": [
       "True"
      ]
     },
     "execution_count": 239,
     "metadata": {},
     "output_type": "execute_result"
    }
   ],
   "source": [
    "# Given the X numpy array, return True if none of its elements is zero\n",
    "\n",
    "ce = np.random.randint (0, 50, size = 15)\n",
    "print (ce)\n",
    "\n",
    "ce.all()\n",
    "\n",
    "# all() retorna true se todos dos elementos do array for difente de zero (que é o mesmo que falso)"
   ]
  },
  {
   "cell_type": "code",
   "execution_count": 230,
   "metadata": {},
   "outputs": [
    {
     "name": "stdout",
     "output_type": "stream",
     "text": [
      "[18 44 18 43 23  1 27 20 42  1 16 14 31 13 16]\n"
     ]
    },
    {
     "data": {
      "text/plain": [
       "True"
      ]
     },
     "execution_count": 230,
     "metadata": {},
     "output_type": "execute_result"
    }
   ],
   "source": [
    "# Given the X numpy array, return True if any of its elements is zero\n",
    "\n",
    "cf = np.random.randint (0, 50, size = 15)\n",
    "print (cf)\n",
    "\n",
    "cf.any()\n",
    "\n",
    "# any() retorna true se algum dos elementos do array for difente de zero (que é o mesmo que falso)"
   ]
  },
  {
   "cell_type": "markdown",
   "metadata": {},
   "source": [
    "<hr style=\"margin-bottom: 40px;\">\n",
    "\n",
    "### Summary statistics"
   ]
  },
  {
   "cell_type": "code",
   "execution_count": 242,
   "metadata": {},
   "outputs": [
    {
     "name": "stdout",
     "output_type": "stream",
     "text": [
      "[37  5 44 33  6 35 34 38 19 48 10 32 46 45 21]\n"
     ]
    },
    {
     "data": {
      "text/plain": [
       "453"
      ]
     },
     "execution_count": 242,
     "metadata": {},
     "output_type": "execute_result"
    }
   ],
   "source": [
    "# Given the X numpy array, show the sum of its elements\n",
    "\n",
    "da = np.random.randint (0, 50, size = 15)\n",
    "print (da)\n",
    "\n",
    "da.sum () "
   ]
  },
  {
   "cell_type": "code",
   "execution_count": 243,
   "metadata": {},
   "outputs": [
    {
     "name": "stdout",
     "output_type": "stream",
     "text": [
      "[ 3  5 31 48 25  0 11  5 47 25 15 34 10  5 21]\n"
     ]
    },
    {
     "data": {
      "text/plain": [
       "19.0"
      ]
     },
     "execution_count": 243,
     "metadata": {},
     "output_type": "execute_result"
    }
   ],
   "source": [
    "# Given the X numpy array, show the mean value of its elements\n",
    "\n",
    "db = np.random.randint (0, 50, size = 15)\n",
    "print (db)\n",
    "\n",
    "db.mean () "
   ]
  },
  {
   "cell_type": "code",
   "execution_count": 247,
   "metadata": {},
   "outputs": [
    {
     "name": "stdout",
     "output_type": "stream",
     "text": [
      "[[35 11 16 18]\n",
      " [31 15  4  4]\n",
      " [26 16 23 16]\n",
      " [24 43 37 14]]\n"
     ]
    },
    {
     "data": {
      "text/plain": [
       "array([116,  85,  80,  52])"
      ]
     },
     "execution_count": 247,
     "metadata": {},
     "output_type": "execute_result"
    }
   ],
   "source": [
    "# Given the X numpy matrix, show the sum of its columns\n",
    "\n",
    "de = np.random.randint (0, 50, size = (4,4))\n",
    "print (de)\n",
    "\n",
    "de.sum(axis=0)\n",
    "\n",
    "# axis = 0 -- columns\n",
    "# axis = 1 -- rows"
   ]
  },
  {
   "cell_type": "code",
   "execution_count": 249,
   "metadata": {},
   "outputs": [
    {
     "name": "stdout",
     "output_type": "stream",
     "text": [
      "[[13 17 48 20]\n",
      " [33 47 41 35]\n",
      " [45 41 45 47]\n",
      " [25 32  4 42]]\n"
     ]
    },
    {
     "data": {
      "text/plain": [
       "array([24.5 , 39.  , 44.5 , 25.75])"
      ]
     },
     "execution_count": 249,
     "metadata": {},
     "output_type": "execute_result"
    }
   ],
   "source": [
    "# Given the X numpy matrix, show the mean value of its rows\n",
    "\n",
    "df = np.random.randint (0, 50, size = (4,4))\n",
    "print (df)\n",
    "\n",
    "df.mean(axis=1)"
   ]
  },
  {
   "cell_type": "code",
   "execution_count": 250,
   "metadata": {},
   "outputs": [
    {
     "name": "stdout",
     "output_type": "stream",
     "text": [
      "[[ 3 20 13  6]\n",
      " [45 43 45 12]\n",
      " [26 49 27 14]\n",
      " [40 19  8 34]]\n"
     ]
    },
    {
     "data": {
      "text/plain": [
       "49"
      ]
     },
     "execution_count": 250,
     "metadata": {},
     "output_type": "execute_result"
    }
   ],
   "source": [
    "# Given the X numpy array, show the max value of its elements\n",
    "\n",
    "dg = np.random.randint (0, 50, size = (4,4))\n",
    "print (dg)\n",
    "\n",
    "dg.max()"
   ]
  },
  {
   "cell_type": "code",
   "execution_count": null,
   "metadata": {},
   "outputs": [],
   "source": []
  }
 ],
 "metadata": {
  "kernelspec": {
   "display_name": "Python 3",
   "language": "python",
   "name": "python3"
  },
  "language_info": {
   "codemirror_mode": {
    "name": "ipython",
    "version": 3
   },
   "file_extension": ".py",
   "mimetype": "text/x-python",
   "name": "python",
   "nbconvert_exporter": "python",
   "pygments_lexer": "ipython3",
   "version": "3.8.3"
  }
 },
 "nbformat": 4,
 "nbformat_minor": 4
}
